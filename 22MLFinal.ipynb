{
  "nbformat": 4,
  "nbformat_minor": 0,
  "metadata": {
    "colab": {
      "provenance": []
    },
    "kernelspec": {
      "name": "python3",
      "display_name": "Python 3"
    },
    "language_info": {
      "name": "python"
    },
    "accelerator": "GPU",
    "gpuClass": "standard"
  },
  "cells": [
    {
      "cell_type": "code",
      "execution_count": 178,
      "metadata": {
        "id": "ZJYLvj1xGrnM"
      },
      "outputs": [],
      "source": [
        "import numpy as np\n",
        "import pandas as pd"
      ]
    },
    {
      "cell_type": "markdown",
      "source": [
        "## Load Data\n"
      ],
      "metadata": {
        "id": "dKf_N4Vsq_KG"
      }
    },
    {
      "cell_type": "code",
      "source": [
        "# open train data \n",
        "\n",
        "with open('train_with_label.txt', 'r') as f: \n",
        "  data = f.readlines() \n",
        "\n",
        "X_train = [] \n",
        "y_train = [] \n",
        "\n",
        "for i in range(len(data)) : \n",
        "  cur = data[i].strip().split('\\t') \n",
        "  X_train.append(cur[1]+cur[2]) \n",
        "  y_train.append(cur[3]) \n"
      ],
      "metadata": {
        "id": "L2cql4V7HqC9"
      },
      "execution_count": 179,
      "outputs": []
    },
    {
      "cell_type": "code",
      "source": [
        "# open dev data \n",
        " \n",
        "with open('dev_with_label.txt', 'r') as f: \n",
        "  data = f.readlines() \n",
        " \n",
        "X_test = [] \n",
        "y_test = [] \n",
        "\n",
        "for i in range(len(data)) : \n",
        "  cur = data[i].strip().split('\\t') \n",
        "  X_test.append(cur[1]+cur[2]) \n",
        "  y_test.append(cur[3]) \n"
      ],
      "metadata": {
        "id": "EHYFOEuXHuq_"
      },
      "execution_count": 180,
      "outputs": []
    },
    {
      "cell_type": "code",
      "source": [
        "# open test data\n",
        " \n",
        "with open('test_without_label.txt', 'r') as f: \n",
        "  data = f.readlines() \n",
        "\n",
        "test = [] \n",
        "test_id = [] \n",
        " \n",
        "for i in range(len(data)) : \n",
        "  cur = data[i].strip().split('\\t') \n",
        "  test_id.append(cur[0]) \n",
        "  test.append(cur[1]+cur[2]) \n"
      ],
      "metadata": {
        "id": "V4OZtnD7HxqB"
      },
      "execution_count": 181,
      "outputs": []
    },
    {
      "cell_type": "markdown",
      "source": [
        "## Data processing"
      ],
      "metadata": {
        "id": "KPJXJjYBrDh3"
      }
    },
    {
      "cell_type": "code",
      "source": [
        "import re \n",
        "import nltk \n",
        "\n",
        "from nltk.tokenize import word_tokenize \n",
        "from nltk.corpus import stopwords \n",
        "from nltk.stem.porter import PorterStemmer \n",
        "from nltk.util import ngrams \n",
        "from nltk.stem import WordNetLemmatizer \n",
        "\n",
        "nltk.download('punkt') \n",
        "nltk.download('stopwords') \n",
        "nltk.download('wordnet') \n",
        "nltk.download('omw-1.4') "
      ],
      "metadata": {
        "colab": {
          "base_uri": "https://localhost:8080/"
        },
        "id": "_WxPhfIAKtmU",
        "outputId": "5a1129ac-6351-4af8-f85b-9e697ae8dde9"
      },
      "execution_count": 182,
      "outputs": [
        {
          "output_type": "stream",
          "name": "stderr",
          "text": [
            "[nltk_data] Downloading package punkt to /root/nltk_data...\n",
            "[nltk_data]   Package punkt is already up-to-date!\n",
            "[nltk_data] Downloading package stopwords to /root/nltk_data...\n",
            "[nltk_data]   Package stopwords is already up-to-date!\n",
            "[nltk_data] Downloading package wordnet to /root/nltk_data...\n",
            "[nltk_data]   Package wordnet is already up-to-date!\n",
            "[nltk_data] Downloading package omw-1.4 to /root/nltk_data...\n",
            "[nltk_data]   Package omw-1.4 is already up-to-date!\n"
          ]
        },
        {
          "output_type": "execute_result",
          "data": {
            "text/plain": [
              "True"
            ]
          },
          "metadata": {},
          "execution_count": 182
        }
      ]
    },
    {
      "cell_type": "code",
      "source": [
        "def data_processing(text): \n",
        "  pre_words = re.sub('[^A-Za-z]', ' ', text) \n",
        "  pre_words = pre_words.lower() \n",
        "  \n",
        "  tokenized_words = word_tokenize(pre_words) \n",
        "  stops = set(stopwords.words('english')) \n",
        "  \n",
        "  tokenized_words_remove = [] \n",
        "  for w in tokenized_words: \n",
        "    if w not in stops: \n",
        "      tokenized_words_remove.append(w) \n",
        "  \n",
        "  lem = WordNetLemmatizer() \n",
        "  for i in range(len(tokenized_words_remove)): \n",
        "    tokenized_words_remove[i] = lem.lemmatize(tokenized_words_remove[i]) \n",
        "\n",
        "  return(\" \".join(tokenized_words_remove)) "
      ],
      "metadata": {
        "id": "BwLultHwKwLk"
      },
      "execution_count": 183,
      "outputs": []
    },
    {
      "cell_type": "code",
      "source": [
        "X_train = [data_processing(i) for i in X_train] \n",
        "X_test = [data_processing(i) for i in  X_test] \n",
        "X = X_train + X_test \n",
        "\n",
        "test = [data_processing(i) for i in test] "
      ],
      "metadata": {
        "id": "eHCt3tpALkP2"
      },
      "execution_count": 184,
      "outputs": []
    },
    {
      "cell_type": "code",
      "source": [
        "from sklearn.feature_extraction.text import CountVectorizer \n",
        "\n",
        "vectorizer = CountVectorizer(max_features=10000) \n",
        "             \n",
        "X = np.asarray(X).astype(\"U\")             \n",
        "X_train = np.asarray(X_train).astype(\"U\") \n",
        "X_test = np.asarray(X_test).astype(\"U\") \n",
        "test = np.asarray(test).astype(\"U\") \n",
        "\n",
        "X_features = vectorizer.fit_transform(X).todense() \n",
        "X_train_features = vectorizer.transform(X_train).todense()  \n",
        "X_test_features = vectorizer.transform(X_test).todense()  \n",
        "test_features = vectorizer.transform(test).todense()  \n",
        "\n",
        "y_train = [int(i) for i in y_train]\n",
        "y_test = [int(i) for i in y_test]\n",
        "y = y_train + y_test "
      ],
      "metadata": {
        "id": "0jjE0xWtLnZs"
      },
      "execution_count": 185,
      "outputs": []
    },
    {
      "cell_type": "markdown",
      "source": [
        "## Modeling"
      ],
      "metadata": {
        "id": "dOs_Ccb7rIBN"
      }
    },
    {
      "cell_type": "code",
      "source": [
        "import torch\n",
        "import torch.optim as optim\n",
        "torch.manual_seed(1)\n",
        "\n",
        "import random\n",
        "random.seed(1)\n",
        "\n",
        "device = 'cuda' if torch.cuda.is_available() else 'cpu'\n",
        "\n",
        "if device =='cuda':\n",
        "    torch.cuda.manual_seed_all(1)"
      ],
      "metadata": {
        "id": "XaWEWtdXLtFY"
      },
      "execution_count": 186,
      "outputs": []
    },
    {
      "cell_type": "code",
      "source": [
        "X_features = torch.FloatTensor(X_features).to(device)\n",
        "X_train_features = torch.FloatTensor(X_train_features).to(device)\n",
        "X_test_features = torch.FloatTensor(X_test_features).to(device)\n",
        "\n",
        "y_train = torch.LongTensor(y_train).to(device)\n",
        "y_test = torch.LongTensor(y_test).to(device)\n",
        "y = torch.LongTensor(y).to(device)\n",
        "\n",
        "test_features = torch.FloatTensor(test_features).to(device)"
      ],
      "metadata": {
        "id": "pUjZ_oPDOXYT"
      },
      "execution_count": 187,
      "outputs": []
    },
    {
      "cell_type": "code",
      "source": [
        "linear1 = torch.nn.Linear(10000, 512)\n",
        "linear2 = torch.nn.Linear(512, 256)\n",
        "linear3 = torch.nn.Linear(256, 2)\n",
        "\n",
        "relu = torch.nn.ReLU()\n",
        "dropout = torch.nn.Dropout(p=0.3)\n",
        "\n",
        "model = torch.nn.Sequential(linear1, relu, dropout,\n",
        "                            linear2, relu, dropout,\n",
        "                            linear3).to(device)\n",
        "                      "
      ],
      "metadata": {
        "id": "cczwfLhVhm4q"
      },
      "execution_count": 189,
      "outputs": []
    },
    {
      "cell_type": "code",
      "source": [
        "model.train()\n",
        "loss = torch.nn.CrossEntropyLoss()\n",
        "optimizer = torch.optim.Adam(model.parameters(), lr=1e-4)\n",
        "\n",
        "for stop in range(2000):\n",
        "    optimizer.zero_grad()\n",
        "    hypothesis = model(X_train_features)\n",
        "    cost = loss(hypothesis, y_train)\n",
        "    cost.backward()\n",
        "    optimizer.step()\n",
        "\n",
        "    if stop % 100 == 0:\n",
        "        print(stop, cost.item())"
      ],
      "metadata": {
        "colab": {
          "base_uri": "https://localhost:8080/"
        },
        "id": "AMY5ZAWriE9x",
        "outputId": "b6c2b2f1-d166-4d95-a735-293c3f80a479"
      },
      "execution_count": 190,
      "outputs": [
        {
          "output_type": "stream",
          "name": "stdout",
          "text": [
            "0 0.6941550374031067\n",
            "100 0.3217655420303345\n",
            "200 0.08035217225551605\n",
            "300 0.024747591465711594\n",
            "400 0.011090864427387714\n",
            "500 0.006890471093356609\n",
            "600 0.0048704189248383045\n",
            "700 0.003326995065435767\n",
            "800 0.0026196730323135853\n",
            "900 0.002280087675899267\n",
            "1000 0.0018150962423533201\n",
            "1100 0.001629456179216504\n",
            "1200 0.0015871826326474547\n",
            "1300 0.0015493796672672033\n",
            "1400 0.0010908066760748625\n",
            "1500 0.0013478504261001945\n",
            "1600 0.0014300077455118299\n",
            "1700 0.0013230439508333802\n",
            "1800 0.0011023521656170487\n",
            "1900 0.0014218721771612763\n"
          ]
        }
      ]
    },
    {
      "cell_type": "code",
      "source": [
        "model.eval()\n",
        "with torch.no_grad():\n",
        "    predict = torch.nn.functional.softmax(model(X_test_features), dim=1)\n",
        "    predict = torch.argmax(predict, dim=1)\n",
        "    correct = y_test == predict.float()\n",
        "    accuracy = correct.sum().item()/len(correct)\n",
        "    print(accuracy)"
      ],
      "metadata": {
        "colab": {
          "base_uri": "https://localhost:8080/"
        },
        "id": "5cIL8OveiSw3",
        "outputId": "ac30bba6-af86-4f63-8fb5-ca6d5d4b99ea"
      },
      "execution_count": 191,
      "outputs": [
        {
          "output_type": "stream",
          "name": "stdout",
          "text": [
            "0.70525\n"
          ]
        }
      ]
    },
    {
      "cell_type": "markdown",
      "source": [
        "## Predict"
      ],
      "metadata": {
        "id": "gK5x9G2lrLR6"
      }
    },
    {
      "cell_type": "code",
      "source": [
        "final_model = torch.nn.Sequential(linear1, relu, dropout,\n",
        "                            linear2, relu, dropout,\n",
        "                            linear3).to(device)\n",
        "\n",
        "final_model.train()\n",
        "loss = torch.nn.CrossEntropyLoss()\n",
        "optimizer = torch.optim.Adam(model.parameters(), lr=1e-4)\n",
        "\n",
        "for stop in range(2000):\n",
        "    optimizer.zero_grad()\n",
        "    hypothesis = final_model(X_features)\n",
        "    cost = loss(hypothesis, y)\n",
        "    cost.backward()\n",
        "    optimizer.step()\n",
        "\n",
        "    if stop % 100 == 0:\n",
        "        print(stop, cost.item())"
      ],
      "metadata": {
        "colab": {
          "base_uri": "https://localhost:8080/"
        },
        "id": "nrlxqrhskuqg",
        "outputId": "37c24fb0-3a83-4e53-bd22-aa86ce66ccf2"
      },
      "execution_count": 192,
      "outputs": [
        {
          "output_type": "stream",
          "name": "stdout",
          "text": [
            "0 1.1904971599578857\n",
            "100 0.09577173739671707\n",
            "200 0.030580949038267136\n",
            "300 0.01669861562550068\n",
            "400 0.010655930265784264\n",
            "500 0.007596219889819622\n",
            "600 0.005634463392198086\n",
            "700 0.004892973694950342\n",
            "800 0.003925013355910778\n",
            "900 0.0031242305412888527\n",
            "1000 0.002840819302946329\n",
            "1100 0.002551558194682002\n",
            "1200 0.002266542986035347\n",
            "1300 0.002353779738768935\n",
            "1400 0.0022114263847470284\n",
            "1500 0.0021080458536744118\n",
            "1600 0.0019282345892861485\n",
            "1700 0.002005541929975152\n",
            "1800 0.0017615482211112976\n",
            "1900 0.0019121746299788356\n"
          ]
        }
      ]
    },
    {
      "cell_type": "code",
      "source": [
        "final_model.eval()\n",
        "with torch.no_grad():\n",
        "    predict = torch.nn.functional.softmax(model(test_features), dim=1)\n",
        "    predict = torch.argmax(predict, dim=1)\n",
        "\n",
        "predict = predict.cpu().numpy()"
      ],
      "metadata": {
        "id": "JkT2R_OzlWKM"
      },
      "execution_count": 193,
      "outputs": []
    },
    {
      "cell_type": "code",
      "source": [
        "result = [test_id, predict] \n",
        "result = pd.DataFrame(result).T \n",
        "\n",
        "result.head() "
      ],
      "metadata": {
        "colab": {
          "base_uri": "https://localhost:8080/",
          "height": 206
        },
        "id": "kYpmatukpd1b",
        "outputId": "235ccdae-1688-434a-c887-43ba24f86777"
      },
      "execution_count": 195,
      "outputs": [
        {
          "output_type": "execute_result",
          "data": {
            "text/plain": [
              "           0  1\n",
              "0  test_id_0  1\n",
              "1  test_id_1  1\n",
              "2  test_id_2  0\n",
              "3  test_id_3  0\n",
              "4  test_id_4  0"
            ],
            "text/html": [
              "\n",
              "  <div id=\"df-27608b35-40bf-4e47-82d7-ac6483f01ceb\">\n",
              "    <div class=\"colab-df-container\">\n",
              "      <div>\n",
              "<style scoped>\n",
              "    .dataframe tbody tr th:only-of-type {\n",
              "        vertical-align: middle;\n",
              "    }\n",
              "\n",
              "    .dataframe tbody tr th {\n",
              "        vertical-align: top;\n",
              "    }\n",
              "\n",
              "    .dataframe thead th {\n",
              "        text-align: right;\n",
              "    }\n",
              "</style>\n",
              "<table border=\"1\" class=\"dataframe\">\n",
              "  <thead>\n",
              "    <tr style=\"text-align: right;\">\n",
              "      <th></th>\n",
              "      <th>0</th>\n",
              "      <th>1</th>\n",
              "    </tr>\n",
              "  </thead>\n",
              "  <tbody>\n",
              "    <tr>\n",
              "      <th>0</th>\n",
              "      <td>test_id_0</td>\n",
              "      <td>1</td>\n",
              "    </tr>\n",
              "    <tr>\n",
              "      <th>1</th>\n",
              "      <td>test_id_1</td>\n",
              "      <td>1</td>\n",
              "    </tr>\n",
              "    <tr>\n",
              "      <th>2</th>\n",
              "      <td>test_id_2</td>\n",
              "      <td>0</td>\n",
              "    </tr>\n",
              "    <tr>\n",
              "      <th>3</th>\n",
              "      <td>test_id_3</td>\n",
              "      <td>0</td>\n",
              "    </tr>\n",
              "    <tr>\n",
              "      <th>4</th>\n",
              "      <td>test_id_4</td>\n",
              "      <td>0</td>\n",
              "    </tr>\n",
              "  </tbody>\n",
              "</table>\n",
              "</div>\n",
              "      <button class=\"colab-df-convert\" onclick=\"convertToInteractive('df-27608b35-40bf-4e47-82d7-ac6483f01ceb')\"\n",
              "              title=\"Convert this dataframe to an interactive table.\"\n",
              "              style=\"display:none;\">\n",
              "        \n",
              "  <svg xmlns=\"http://www.w3.org/2000/svg\" height=\"24px\"viewBox=\"0 0 24 24\"\n",
              "       width=\"24px\">\n",
              "    <path d=\"M0 0h24v24H0V0z\" fill=\"none\"/>\n",
              "    <path d=\"M18.56 5.44l.94 2.06.94-2.06 2.06-.94-2.06-.94-.94-2.06-.94 2.06-2.06.94zm-11 1L8.5 8.5l.94-2.06 2.06-.94-2.06-.94L8.5 2.5l-.94 2.06-2.06.94zm10 10l.94 2.06.94-2.06 2.06-.94-2.06-.94-.94-2.06-.94 2.06-2.06.94z\"/><path d=\"M17.41 7.96l-1.37-1.37c-.4-.4-.92-.59-1.43-.59-.52 0-1.04.2-1.43.59L10.3 9.45l-7.72 7.72c-.78.78-.78 2.05 0 2.83L4 21.41c.39.39.9.59 1.41.59.51 0 1.02-.2 1.41-.59l7.78-7.78 2.81-2.81c.8-.78.8-2.07 0-2.86zM5.41 20L4 18.59l7.72-7.72 1.47 1.35L5.41 20z\"/>\n",
              "  </svg>\n",
              "      </button>\n",
              "      \n",
              "  <style>\n",
              "    .colab-df-container {\n",
              "      display:flex;\n",
              "      flex-wrap:wrap;\n",
              "      gap: 12px;\n",
              "    }\n",
              "\n",
              "    .colab-df-convert {\n",
              "      background-color: #E8F0FE;\n",
              "      border: none;\n",
              "      border-radius: 50%;\n",
              "      cursor: pointer;\n",
              "      display: none;\n",
              "      fill: #1967D2;\n",
              "      height: 32px;\n",
              "      padding: 0 0 0 0;\n",
              "      width: 32px;\n",
              "    }\n",
              "\n",
              "    .colab-df-convert:hover {\n",
              "      background-color: #E2EBFA;\n",
              "      box-shadow: 0px 1px 2px rgba(60, 64, 67, 0.3), 0px 1px 3px 1px rgba(60, 64, 67, 0.15);\n",
              "      fill: #174EA6;\n",
              "    }\n",
              "\n",
              "    [theme=dark] .colab-df-convert {\n",
              "      background-color: #3B4455;\n",
              "      fill: #D2E3FC;\n",
              "    }\n",
              "\n",
              "    [theme=dark] .colab-df-convert:hover {\n",
              "      background-color: #434B5C;\n",
              "      box-shadow: 0px 1px 3px 1px rgba(0, 0, 0, 0.15);\n",
              "      filter: drop-shadow(0px 1px 2px rgba(0, 0, 0, 0.3));\n",
              "      fill: #FFFFFF;\n",
              "    }\n",
              "  </style>\n",
              "\n",
              "      <script>\n",
              "        const buttonEl =\n",
              "          document.querySelector('#df-27608b35-40bf-4e47-82d7-ac6483f01ceb button.colab-df-convert');\n",
              "        buttonEl.style.display =\n",
              "          google.colab.kernel.accessAllowed ? 'block' : 'none';\n",
              "\n",
              "        async function convertToInteractive(key) {\n",
              "          const element = document.querySelector('#df-27608b35-40bf-4e47-82d7-ac6483f01ceb');\n",
              "          const dataTable =\n",
              "            await google.colab.kernel.invokeFunction('convertToInteractive',\n",
              "                                                     [key], {});\n",
              "          if (!dataTable) return;\n",
              "\n",
              "          const docLinkHtml = 'Like what you see? Visit the ' +\n",
              "            '<a target=\"_blank\" href=https://colab.research.google.com/notebooks/data_table.ipynb>data table notebook</a>'\n",
              "            + ' to learn more about interactive tables.';\n",
              "          element.innerHTML = '';\n",
              "          dataTable['output_type'] = 'display_data';\n",
              "          await google.colab.output.renderOutput(dataTable, element);\n",
              "          const docLink = document.createElement('div');\n",
              "          docLink.innerHTML = docLinkHtml;\n",
              "          element.appendChild(docLink);\n",
              "        }\n",
              "      </script>\n",
              "    </div>\n",
              "  </div>\n",
              "  "
            ]
          },
          "metadata": {},
          "execution_count": 195
        }
      ]
    },
    {
      "cell_type": "code",
      "source": [
        "result.to_csv('test.txt', index=False, header=None, sep='\\t') "
      ],
      "metadata": {
        "id": "NX1ZhGrbplYq"
      },
      "execution_count": 196,
      "outputs": []
    },
    {
      "cell_type": "code",
      "source": [],
      "metadata": {
        "id": "qxwpCrqSqbgS"
      },
      "execution_count": null,
      "outputs": []
    }
  ]
}